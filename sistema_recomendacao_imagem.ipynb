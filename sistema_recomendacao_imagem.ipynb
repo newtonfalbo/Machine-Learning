{
  "nbformat": 4,
  "nbformat_minor": 0,
  "metadata": {
    "colab": {
      "provenance": [],
      "authorship_tag": "ABX9TyPksv69dHLNhSJLd5pH5iDh",
      "include_colab_link": true
    },
    "kernelspec": {
      "name": "python3",
      "display_name": "Python 3"
    },
    "language_info": {
      "name": "python"
    }
  },
  "cells": [
    {
      "cell_type": "markdown",
      "metadata": {
        "id": "view-in-github",
        "colab_type": "text"
      },
      "source": [
        "<a href=\"https://colab.research.google.com/github/newtonfalbo/Machine-Learning/blob/main/sistema_recomendacao_imagem.ipynb\" target=\"_parent\"><img src=\"https://colab.research.google.com/assets/colab-badge.svg\" alt=\"Open In Colab\"/></a>"
      ]
    },
    {
      "cell_type": "code",
      "source": [
        "import tensorflow as tf\n",
        "from tensorflow.keras import layers, Model\n",
        "import numpy as np\n",
        "import matplotlib.pyplot as plt\n",
        "import faiss\n",
        "import os\n",
        "from tensorflow.keras.preprocessing.image import load_img, img_to_array\n",
        "\n",
        "# Criando o modelo base para extrair características\n",
        "def build_base_model():\n",
        "    model = tf.keras.Sequential([\n",
        "        layers.Conv2D(64, (3, 3), activation='relu', input_shape=(128, 128, 3)),\n",
        "        layers.MaxPooling2D(2, 2),\n",
        "        layers.Conv2D(128, (3, 3), activation='relu'),\n",
        "        layers.MaxPooling2D(2, 2),\n",
        "        layers.Conv2D(256, (3, 3), activation='relu'),\n",
        "        layers.MaxPooling2D(2, 2),\n",
        "        layers.Flatten(),\n",
        "        layers.Dense(128, activation='relu')\n",
        "    ])\n",
        "    return model\n",
        "\n",
        "# Criando a Siamese Network\n",
        "def build_siamese_network():\n",
        "    base_model = build_base_model()\n",
        "\n",
        "    input_a = tf.keras.Input(shape=(128, 128, 3))\n",
        "    input_b = tf.keras.Input(shape=(128, 128, 3))\n",
        "\n",
        "    encoded_a = base_model(input_a)\n",
        "    encoded_b = base_model(input_b)\n",
        "\n",
        "    # Distância entre as representações\n",
        "    distance = layers.Lambda(lambda tensors: tf.abs(tensors[0] - tensors[1]))([encoded_a, encoded_b])\n",
        "    output = layers.Dense(1, activation='sigmoid')(distance)\n",
        "\n",
        "    model = Model(inputs=[input_a, input_b], outputs=output)\n",
        "    model.compile(loss='binary_crossentropy', optimizer='adam', metrics=['accuracy'])\n",
        "\n",
        "    return model\n",
        "\n",
        "# Criando e exibindo o modelo\n",
        "siamese_model = build_siamese_network()\n",
        "siamese_model.summary()\n",
        "\n",
        "# Carregar imagens de um diretório\n",
        "def load_images_from_folder(folder, target_size=(128, 128)):\n",
        "    images = []\n",
        "    image_names = []\n",
        "    for filename in os.listdir(folder):\n",
        "        img_path = os.path.join(folder, filename)\n",
        "        img = load_img(img_path, target_size=target_size)\n",
        "        img_array = img_to_array(img) / 255.0  # Normaliza os pixels para [0,1]\n",
        "        images.append(img_array)\n",
        "        image_names.append(filename)\n",
        "    return np.array(images), image_names\n",
        "\n",
        "# Extração de embeddings\n",
        "def extract_embeddings(model, images):\n",
        "    base_model = Model(inputs=model.input[0], outputs=model.layers[-3].output)\n",
        "    return base_model.predict(images)\n",
        "\n",
        "# Criando banco de dados FAISS para busca de imagens similares\n",
        "def build_faiss_index(embeddings):\n",
        "    d = embeddings.shape[1]  # Dimensão do vetor de características\n",
        "    index = faiss.IndexFlatL2(d)\n",
        "    index.add(embeddings)\n",
        "    return index\n",
        "\n",
        "# Buscando imagens similares\n",
        "def search_similar_images(index, query_embedding, k=5):\n",
        "    distances, indices = index.search(query_embedding, k)\n",
        "    return indices\n",
        "\n",
        "# Exemplo de uso\n",
        "image_folder = \"caminho/para/as/imagens\"\n",
        "images, image_names = load_images_from_folder(image_folder)\n",
        "embeddings = extract_embeddings(siamese_model, images)\n",
        "faiss_index = build_faiss_index(embeddings)\n",
        "\n",
        "# Testando com uma nova imagem\n",
        "query_image = images[0].reshape(1, 128, 128, 3)\n",
        "query_embedding = extract_embeddings(siamese_model, query_image)\n",
        "similar_indices = search_similar_images(faiss_index, query_embedding)\n",
        "print(\"Imagens mais similares:\", [image_names[i] for i in similar_indices[0]])"
      ],
      "metadata": {
        "id": "bzpcgZT3VOF5"
      },
      "execution_count": null,
      "outputs": []
    }
  ]
}