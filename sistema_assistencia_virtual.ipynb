{
  "nbformat": 4,
  "nbformat_minor": 0,
  "metadata": {
    "colab": {
      "provenance": [],
      "authorship_tag": "ABX9TyNJjPMY9Fi71ykoK7XB9jho",
      "include_colab_link": true
    },
    "kernelspec": {
      "name": "python3",
      "display_name": "Python 3"
    },
    "language_info": {
      "name": "python"
    }
  },
  "cells": [
    {
      "cell_type": "markdown",
      "metadata": {
        "id": "view-in-github",
        "colab_type": "text"
      },
      "source": [
        "<a href=\"https://colab.research.google.com/github/newtonfalbo/Machine-Learning/blob/main/sistema_assistencia_virtual.ipynb\" target=\"_parent\"><img src=\"https://colab.research.google.com/assets/colab-badge.svg\" alt=\"Open In Colab\"/></a>"
      ]
    },
    {
      "cell_type": "code",
      "execution_count": null,
      "metadata": {
        "id": "_hvcEVJMZr67"
      },
      "outputs": [],
      "source": [
        "import speech_recognition as sr\n",
        "\n",
        "# Inicializa o reconhecedor de fala\n",
        "recognizer = sr.Recognizer()\n",
        "\n",
        "# Captura o áudio do microfone\n",
        "with sr.Microphone() as source:\n",
        "    print(\"Diga algo...\")\n",
        "    audio = recognizer.listen(source)\n",
        "\n",
        "# Tenta reconhecer o áudio\n",
        "try:\n",
        "    text = recognizer.recognize_google(audio)\n",
        "    print(f\"Você disse: {text}\")\n",
        "except sr.UnknownValueError:\n",
        "    print(\"Desculpe, não entendi o áudio.\")\n",
        "except sr.RequestError:\n",
        "    print(\"Erro ao tentar conectar ao serviço de reconhecimento.\")\n"
      ]
    },
    {
      "cell_type": "code",
      "source": [
        "import librosa\n",
        "import numpy as np\n",
        "\n",
        "def extract_features(audio_file):\n",
        "    y, sr = librosa.load(audio_file, sr=None)\n",
        "    mfcc = librosa.feature.mfcc(y=y, sr=sr, n_mfcc=13)\n",
        "    return np.mean(mfcc.T, axis=0)\n",
        "\n",
        "# Teste com um arquivo de áudio\n",
        "audio_file = \"path_to_audio.wav\"\n",
        "features = extract_features(audio_file)\n",
        "print(features)\n"
      ],
      "metadata": {
        "id": "ljZBmEpsZytm"
      },
      "execution_count": null,
      "outputs": []
    },
    {
      "cell_type": "code",
      "source": [
        "from gtts import gTTS\n",
        "import os\n",
        "\n",
        "# Função para gerar fala a partir de texto\n",
        "def text_to_speech(text):\n",
        "    tts = gTTS(text=text, lang='pt')\n",
        "    tts.save(\"output.mp3\")\n",
        "    os.system(\"start output.mp3\")  # No Windows, para tocar o arquivo\n",
        "\n",
        "# Teste com um texto simples\n",
        "text_to_speech(\"Olá, como posso ajudá-lo?\")\n"
      ],
      "metadata": {
        "id": "DioaGLzKZ0Y4"
      },
      "execution_count": null,
      "outputs": []
    },
    {
      "cell_type": "code",
      "source": [
        "import spacy\n",
        "\n",
        "# Carregar o modelo de linguagem\n",
        "nlp = spacy.load(\"pt_core_news_sm\")\n",
        "\n",
        "def process_command(text):\n",
        "    doc = nlp(text)\n",
        "    # Exemplo simples de identificar um verbo\n",
        "    for token in doc:\n",
        "        if token.pos_ == \"VERB\":\n",
        "            print(f\"Comando detectado: {token.text}\")\n",
        "            if token.text.lower() == \"abrir\":\n",
        "                print(\"Abrindo o site...\")\n",
        "                # Aqui você pode adicionar funções para abrir sites ou outras ações\n",
        "\n",
        "# Teste com um comando\n",
        "process_command(\"Abrir o YouTube\")\n"
      ],
      "metadata": {
        "id": "dNt7mLGgZ2US"
      },
      "execution_count": null,
      "outputs": []
    },
    {
      "cell_type": "code",
      "source": [
        "import speech_recognition as sr\n",
        "from gtts import gTTS\n",
        "import os\n",
        "import spacy\n",
        "\n",
        "# Inicialização do Recognizer e NLP\n",
        "recognizer = sr.Recognizer()\n",
        "nlp = spacy.load(\"pt_core_news_sm\")\n",
        "\n",
        "def text_to_speech(text):\n",
        "    tts = gTTS(text=text, lang='pt')\n",
        "    tts.save(\"output.mp3\")\n",
        "    os.system(\"start output.mp3\")\n",
        "\n",
        "def process_command(text):\n",
        "    doc = nlp(text)\n",
        "    for token in doc:\n",
        "        if token.pos_ == \"VERB\":\n",
        "            if token.text.lower() == \"abrir\":\n",
        "                print(\"Abrindo o YouTube...\")\n",
        "                os.system(\"start https://www.youtube.com\")\n",
        "\n",
        "def listen_and_process():\n",
        "    with sr.Microphone() as source:\n",
        "        print(\"Diga um comando...\")\n",
        "        audio = recognizer.listen(source)\n",
        "    try:\n",
        "        text = recognizer.recognize_google(audio, language=\"pt-BR\")\n",
        "        print(f\"Você disse: {text}\")\n",
        "        process_command(text)\n",
        "        text_to_speech(\"Comando executado!\")\n",
        "    except sr.UnknownValueError:\n",
        "        print(\"Não entendi o comando.\")\n",
        "    except sr.RequestError:\n",
        "        print(\"Erro ao tentar conectar ao serviço de reconhecimento.\")\n",
        "\n",
        "# Iniciar a escuta e execução\n",
        "listen_and_process()\n"
      ],
      "metadata": {
        "id": "PTzimoWbZ28u"
      },
      "execution_count": null,
      "outputs": []
    }
  ]
}