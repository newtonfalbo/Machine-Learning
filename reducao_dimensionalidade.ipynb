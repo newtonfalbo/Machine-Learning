{
  "nbformat": 4,
  "nbformat_minor": 0,
  "metadata": {
    "colab": {
      "provenance": [],
      "authorship_tag": "ABX9TyMqKTqJX/kkNrx9CMGu9y4J",
      "include_colab_link": true
    },
    "kernelspec": {
      "name": "python3",
      "display_name": "Python 3"
    },
    "language_info": {
      "name": "python"
    }
  },
  "cells": [
    {
      "cell_type": "markdown",
      "metadata": {
        "id": "view-in-github",
        "colab_type": "text"
      },
      "source": [
        "<a href=\"https://colab.research.google.com/github/newtonfalbo/Machine-Learning/blob/main/reducao_dimensionalidade.ipynb\" target=\"_parent\"><img src=\"https://colab.research.google.com/assets/colab-badge.svg\" alt=\"Open In Colab\"/></a>"
      ]
    },
    {
      "cell_type": "code",
      "source": [
        "def binarize_image(image_path, threshold=127):\n",
        "\n",
        "  try:\n",
        "\n",
        "    img = cv2.imread(image_path)\n",
        "    if img is None:\n",
        "      print(f\"Error: Could not load image at {image_path}\")\n",
        "      return None\n",
        "\n",
        "    gray_img = cv2.cvtColor(img, cv2.COLOR_BGR2GRAY)\n",
        "\n",
        "    _, binary_img = cv2.threshold(gray_img, threshold, 255, cv2.THRESH_BINARY)\n",
        "\n",
        "    return gray_img, binary_img\n",
        "  except Exception as e:\n",
        "      print(f\"An error occurred: {e}\")\n",
        "      return None\n",
        "\n",
        "\n",
        "image_path = '/path/to/your/image.jpg'\n",
        "gray, binary = binarize_image(image_path)\n",
        "\n",
        "\n",
        "if gray is not None and binary is not None:\n",
        "    cv2.imwrite('gray_image.jpg', gray)\n",
        "    cv2.imwrite('binary_image.jpg', binary)\n",
        "    print(\"Images saved successfully!\")\n"
      ],
      "metadata": {
        "id": "9FWqVxlrR1RI"
      },
      "execution_count": null,
      "outputs": []
    }
  ]
}